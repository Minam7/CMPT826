{
 "cells": [
  {
   "cell_type": "markdown",
   "metadata": {},
   "source": [
    "# Assignment1, CMPT826\n",
    "\n",
    "##  Step 2: Stratify and Aggregate\n",
    "\n",
    "* Seyedeh Mina Mousavifar\n",
    "* 11279515\n",
    "* sem311"
   ]
  },
  {
   "cell_type": "markdown",
   "metadata": {},
   "source": [
    "Obtaining saskatoon data with less than 100m accuracy and users with more than 50% battery records"
   ]
  },
  {
   "cell_type": "code",
   "execution_count": 1,
   "metadata": {},
   "outputs": [],
   "source": [
    "import pandas as pd\n",
    "\n",
    "# retrieving saskatoon data with less than 100m accuracy\n",
    "gps_data = pd.read_pickle('data/gps_filter_final_50.pkl')\n",
    "\n",
    "# removing unnecessary columns\n",
    "gps_data = gps_data.drop(['alt', 'bearing', 'speed', 'record_time_minute', 'timestamp', 'pokemon'], 1)"
   ]
  },
  {
   "cell_type": "markdown",
   "metadata": {},
   "source": [
    "Aggregate by time by taking the average location every duty cycle."
   ]
  },
  {
   "cell_type": "code",
   "execution_count": 34,
   "metadata": {},
   "outputs": [],
   "source": [
    "# sorting based on time \n",
    "gps_data = gps_data.sort_values(['user_id', 'record_time']).reset_index()\n",
    "\n",
    "# Converting record time to separate Date and Time variable\n",
    "gps_data['Dates'] = pd.to_datetime(gps_data['record_time']).dt.date\n",
    "gps_data['Time'] = pd.to_datetime(gps_data['record_time']).dt.time\n",
    "gps_data['Hour'] = pd.to_datetime(gps_data['record_time']).dt.hour\n",
    "gps_data['Minute'] = pd.to_datetime(gps_data['record_time']).dt.minute\n",
    "gps_data['Second'] = pd.to_datetime(gps_data['record_time']).dt.second"
   ]
  },
  {
   "cell_type": "code",
   "execution_count": 36,
   "metadata": {},
   "outputs": [],
   "source": [
    "#gps_data.to_pickle('data/gps_better_50.pkl')\n",
    "#gps_data.tail(60)"
   ]
  },
  {
   "cell_type": "code",
   "execution_count": null,
   "metadata": {},
   "outputs": [],
   "source": []
  },
  {
   "cell_type": "code",
   "execution_count": null,
   "metadata": {},
   "outputs": [],
   "source": []
  },
  {
   "cell_type": "code",
   "execution_count": null,
   "metadata": {},
   "outputs": [],
   "source": []
  }
 ],
 "metadata": {
  "kernelspec": {
   "display_name": "Python 3",
   "language": "python",
   "name": "python3"
  },
  "language_info": {
   "codemirror_mode": {
    "name": "ipython",
    "version": 3
   },
   "file_extension": ".py",
   "mimetype": "text/x-python",
   "name": "python",
   "nbconvert_exporter": "python",
   "pygments_lexer": "ipython3",
   "version": "3.6.6"
  }
 },
 "nbformat": 4,
 "nbformat_minor": 2
}
