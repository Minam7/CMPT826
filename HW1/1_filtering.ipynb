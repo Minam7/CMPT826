{
 "cells": [
  {
   "cell_type": "markdown",
   "metadata": {},
   "source": [
    "# Assignment1, CMPT826\n",
    "\n",
    "##  Step 1: Filter\n",
    "\n",
    "* Seyedeh Mina Mousavifar\n",
    "* 11279515\n",
    "* sem311"
   ]
  },
  {
   "cell_type": "markdown",
   "metadata": {},
   "source": [
    "### Filtering users based on battery record"
   ]
  },
  {
   "cell_type": "markdown",
   "metadata": {},
   "source": [
    "Obtaining battery record count per user"
   ]
  },
  {
   "cell_type": "code",
   "execution_count": 3,
   "metadata": {},
   "outputs": [
    {
     "name": "stdout",
     "output_type": "stream",
     "text": [
      "There is a total of 108 users.\n"
     ]
    }
   ],
   "source": [
    "import pandas as pd\n",
    "\n",
    "# reading data from pickle object\n",
    "battery_data = pd.read_pickle('data/battery.pkl')\n",
    "\n",
    "# counting number of battery information per user\n",
    "battery_info = battery_data.groupby(['user_id']).size().reset_index(name='record_count')\n",
    "\n",
    "# finding number of users before filtering\n",
    "all_users, _ = battery_info.shape\n",
    "print('There is a total of', all_users, 'users.')"
   ]
  },
  {
   "cell_type": "markdown",
   "metadata": {},
   "source": [
    "#### Filtering users with less than 50% battery records.\n",
    "Maximum battery record is $(60/5)*24*30=8640$."
   ]
  },
  {
   "cell_type": "code",
   "execution_count": 4,
   "metadata": {},
   "outputs": [
    {
     "name": "stdout",
     "output_type": "stream",
     "text": [
      "65 users are removed in 50% threshold.\n"
     ]
    }
   ],
   "source": [
    "# calculating filtering cutoff\n",
    "cutoff_percentage = 0.5\n",
    "max_battery_info = (60 / 5) * 24 * 30\n",
    "battery_cutoff = cutoff_percentage * max_battery_info\n",
    "\n",
    "# filtering users with less than 50%\n",
    "battery_info_50 = battery_info.loc[battery_info['record_count'] > battery_cutoff]\n",
    "users_filter_50, _ = battery_info_50.shape\n",
    "\n",
    "# preserving only users with more than 50% battery record\n",
    "battery_data_50 = pd.merge(left=battery_data, right=battery_info_50, left_on='user_id', right_on='user_id')\n",
    "\n",
    "print(all_users - users_filter_50, 'users are removed in 50% threshold.')"
   ]
  },
  {
   "cell_type": "markdown",
   "metadata": {},
   "source": [
    "#### Filtering users with less than 75% battery records."
   ]
  },
  {
   "cell_type": "code",
   "execution_count": 5,
   "metadata": {},
   "outputs": [
    {
     "name": "stdout",
     "output_type": "stream",
     "text": [
      "86 users are removed in 75% threshold.\n"
     ]
    }
   ],
   "source": [
    "# calculating filtering cutoff\n",
    "cutoff_percentage = 0.75\n",
    "battery_cutoff = cutoff_percentage * max_battery_info\n",
    "\n",
    "# filtering users with less than 75%\n",
    "battery_info_75 = battery_info.loc[battery_info['record_count'] > battery_cutoff]\n",
    "users_filter_75, _ = battery_info_75.shape\n",
    "\n",
    "# preserving only users with more than 75% battery record\n",
    "battery_data_75 = pd.merge(left=battery_data, right=battery_info_75, left_on='user_id', right_on='user_id')\n",
    "\n",
    "print(all_users - users_filter_75, 'users are removed in 75% threshold.')\n",
    "\n",
    "# saving data frame as pickle object for future use\n",
    "battery_data_50.to_pickle('data/battery_50.pkl')\n",
    "battery_data_75.to_pickle('data/battery_75.pkl')"
   ]
  },
  {
   "cell_type": "markdown",
   "metadata": {},
   "source": [
    "> There is a total of 108 users, 65 users are removed in 50% threshold, and 86 users are removed in 75% threshold."
   ]
  },
  {
   "cell_type": "markdown",
   "metadata": {},
   "source": [
    "### Filtering users based on GPS data"
   ]
  },
  {
   "cell_type": "markdown",
   "metadata": {},
   "source": [
    "Obtaining gps data"
   ]
  },
  {
   "cell_type": "code",
   "execution_count": 6,
   "metadata": {},
   "outputs": [
    {
     "name": "stdout",
     "output_type": "stream",
     "text": [
      "There is a total of 8592409 GPS records.\n"
     ]
    }
   ],
   "source": [
    "# reading data from pickle object\n",
    "gps_data = pd.read_pickle('data/gps.pkl')\n",
    "\n",
    "# finding number of all records\n",
    "records_num, _ = gps_data.shape\n",
    "print('There is a total of', records_num, 'GPS records.')"
   ]
  },
  {
   "cell_type": "markdown",
   "metadata": {},
   "source": [
    "#### Filtering records with more than 100m accuracy."
   ]
  },
  {
   "cell_type": "code",
   "execution_count": 7,
   "metadata": {},
   "outputs": [
    {
     "name": "stdout",
     "output_type": "stream",
     "text": [
      "219886 records are removed for accuracies more than 100m.\n"
     ]
    }
   ],
   "source": [
    "# filtering accuracy more than 100\n",
    "gps_data = gps_data.loc[gps_data['accu'] < 100]\n",
    "gps_filter_accu, _ = gps_data.shape\n",
    "\n",
    "print(records_num - gps_filter_accu, 'records are removed for accuracies more than 100m.')"
   ]
  },
  {
   "cell_type": "markdown",
   "metadata": {},
   "source": [
    "#### Filtering records outside of latitude range.\n",
    "Desired latitude is between (52.058367, 52.214608)"
   ]
  },
  {
   "cell_type": "code",
   "execution_count": 8,
   "metadata": {},
   "outputs": [
    {
     "name": "stdout",
     "output_type": "stream",
     "text": [
      "233849 records are removed for latitudes less than 52.058367\n",
      "179810 records are removed for latitudes more than 52.214608\n"
     ]
    }
   ],
   "source": [
    "# outside latitude range\n",
    "gps_data = gps_data.loc[gps_data['lat'] > 52.058366]\n",
    "gps_filter_lat_low, _ = gps_data.shape\n",
    "\n",
    "print(gps_filter_accu - gps_filter_lat_low, 'records are removed for latitudes less than 52.058367')\n",
    "\n",
    "gps_data = gps_data.loc[gps_data['lat'] < 52.214609]\n",
    "gps_filter_lat_high, _ = gps_data.shape\n",
    "\n",
    "print(gps_filter_lat_low - gps_filter_lat_high, 'records are removed for latitudes more than 52.214608')"
   ]
  },
  {
   "cell_type": "markdown",
   "metadata": {},
   "source": [
    "#### Filtering records outside of longitude range.\n",
    "Desired longitude is between (-106.7649138128, -106.52225318)"
   ]
  },
  {
   "cell_type": "code",
   "execution_count": 9,
   "metadata": {},
   "outputs": [
    {
     "name": "stdout",
     "output_type": "stream",
     "text": [
      "867 records are removed for longitudes less -106.7649138128\n",
      "1424 records are removed for latitudes more than -106.52225318\n"
     ]
    }
   ],
   "source": [
    "# outside longitude range\n",
    "gps_data = gps_data[gps_data['lon'] > -106.7649138128]\n",
    "gps_filter_lon_low, _ = gps_data.shape\n",
    "\n",
    "print(gps_filter_lat_high - gps_filter_lon_low, 'records are removed for longitudes less -106.7649138128')\n",
    "\n",
    "gps_data = gps_data.loc[gps_data['lon'] < -106.52225319]\n",
    "gps_filter_lon_high, _ = gps_data.shape\n",
    "\n",
    "print(gps_filter_lon_low - gps_filter_lon_high, 'records are removed for latitudes more than -106.52225318')"
   ]
  },
  {
   "cell_type": "code",
   "execution_count": 10,
   "metadata": {},
   "outputs": [
    {
     "name": "stdout",
     "output_type": "stream",
     "text": [
      "GPS data size after filtering is 7956573 records.\n"
     ]
    }
   ],
   "source": [
    "records_num, _ = gps_data.shape\n",
    "\n",
    "print('GPS data size after filtering is', records_num, 'records.')"
   ]
  },
  {
   "cell_type": "markdown",
   "metadata": {},
   "source": [
    "> There are 8,592,409 records in GPS table. 635,836 records is being filtered after the filtering for GPS, so 7,956,573 records remain for GPS data."
   ]
  },
  {
   "cell_type": "markdown",
   "metadata": {},
   "source": [
    "> Applying each filtering on the original data\n",
    ">\n",
    "Filtering method | Records removed\n",
    "--- | ---\n",
    "Accuracy filtering | 219,886\n",
    "Latitude lower bound | 243,637\n",
    "Latitude  upper bound | 428,173\n",
    "Longitude lower bound | 150,900\n",
    "Longitude upper bound | 356,237"
   ]
  },
  {
   "cell_type": "markdown",
   "metadata": {},
   "source": [
    "> Applying filterings one after the other\n",
    ">\n",
    "Filtering method | Records removed\n",
    "--- | ---\n",
    "Accuracy filtering | 219,886\n",
    "Latitude lower bound | 233,849\n",
    "Latitude  upper bound | 179,810\n",
    "Longitude lower bound | 867\n",
    "Longitude upper bound | 1424\n",
    "Total | 635,836"
   ]
  },
  {
   "cell_type": "markdown",
   "metadata": {},
   "source": [
    "### Heatmap plotting"
   ]
  },
  {
   "cell_type": "markdown",
   "metadata": {},
   "source": [
    "#### Plotting heatmap for all data"
   ]
  },
  {
   "cell_type": "code",
   "execution_count": null,
   "metadata": {},
   "outputs": [],
   "source": [
    "import folium\n",
    "from folium.plugins import HeatMap\n",
    "\n",
    "# plotting heatmap for all records\n",
    "gps_data = pd.read_pickle('data/gps.pkl')\n",
    "\n",
    "# creating map\n",
    "hmap_data = folium.Map(location=[52.058367, -106.7649138128])\n",
    "\n",
    "hm_wide = HeatMap(list(zip(gps_data.lat.values, gps_data.lon.values, )), min_opacity=0.2)\n",
    "\n",
    "hmap_data.add_child(hm_wide)\n",
    "\n",
    "hmap_data.save(os.path.join('maps', 'all_records_heatmap.html'))"
   ]
  },
  {
   "cell_type": "markdown",
   "metadata": {},
   "source": [
    "> Heatmap of GPS record of all data viewing Saskatoon"
   ]
  },
  {
   "cell_type": "markdown",
   "metadata": {},
   "source": [
    "<img src='images/all_data_Saskatoon.png'>"
   ]
  },
  {
   "cell_type": "markdown",
   "metadata": {},
   "source": [
    "> Heatmap of GPS record of all data viewing World"
   ]
  },
  {
   "cell_type": "markdown",
   "metadata": {},
   "source": [
    "<img src='images/all_data_World.png'>"
   ]
  },
  {
   "cell_type": "markdown",
   "metadata": {},
   "source": [
    "#### Plotting heatmap for filtered data"
   ]
  },
  {
   "cell_type": "code",
   "execution_count": null,
   "metadata": {},
   "outputs": [],
   "source": [
    "# plotting heatmap for filtered records\n",
    "gps_data = pd.read_pickle('data/gps_filter.pkl')\n",
    "\n",
    "# creating map\n",
    "hmap_data = folium.Map(location=[52.058367, -106.7649138128])\n",
    "\n",
    "hm_wide = HeatMap(list(zip(gps_data.lat.values, gps_data.lon.values)), min_opacity=0.2)\n",
    "\n",
    "hmap_data.add_child(hm_wide)\n",
    "\n",
    "hmap_data.save(os.path.join('maps', 'filtered_records_heatmap.html'))"
   ]
  },
  {
   "cell_type": "markdown",
   "metadata": {},
   "source": [
    "> Heatmap of GPS record of filtered data viewing Saskatoon"
   ]
  },
  {
   "cell_type": "markdown",
   "metadata": {},
   "source": [
    "<img src='images/filtered.png'>"
   ]
  },
  {
   "cell_type": "markdown",
   "metadata": {},
   "source": [
    "> As we can see, there are records in locations such as other parts of Canada, the US, and the UK. These might be users who travelled during the term, which are the minority in the study. Furthermore, there are some suspicious points in the Atlantic ocean near Nigeria and the Norwegian sea. One approach to filter these points rather than longitude is to define ranges of latitude and longitude, and count number of records in these ranges and remove records with less than a certain count threshold in their specified range."
   ]
  }
 ],
 "metadata": {
  "kernelspec": {
   "display_name": "Python 3",
   "language": "python",
   "name": "python3"
  },
  "language_info": {
   "codemirror_mode": {
    "name": "ipython",
    "version": 3
   },
   "file_extension": ".py",
   "mimetype": "text/x-python",
   "name": "python",
   "nbconvert_exporter": "python",
   "pygments_lexer": "ipython3",
   "version": "3.6.6"
  }
 },
 "nbformat": 4,
 "nbformat_minor": 2
}
