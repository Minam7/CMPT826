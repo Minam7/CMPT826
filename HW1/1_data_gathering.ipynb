{
 "cells": [
  {
   "cell_type": "markdown",
   "metadata": {},
   "source": [
    "# Assignment1, CMPT826\n",
    "\n",
    "##  Data Gathering\n",
    "\n",
    "* Seyedeh Mina Mousavifar\n",
    "* 11279515\n",
    "* sem311"
   ]
  },
  {
   "cell_type": "markdown",
   "metadata": {},
   "source": [
    "### Battery table"
   ]
  },
  {
   "cell_type": "code",
   "execution_count": null,
   "metadata": {},
   "outputs": [],
   "source": [
    "import pandas as pd\n",
    "import sqlalchemy as db\n",
    "\n",
    "engine = db.create_engine('mysql://sem311:p^HA89/h@crepe.usask.ca:3306/SHED10')\n",
    "\n",
    "connection = engine.connect()\n",
    "metadata = db.MetaData()\n",
    "\n",
    "# Equivalent to 'SELECT * FROM battery\n",
    "battery = db.Table('battery', metadata, autoload=True, autoload_with=engine)\n",
    "query = db.select([battery])\n",
    "\n",
    "# getting data by executing the query above\n",
    "BatteryResultProxy = connection.execute(query)\n",
    "BatteryResultSet = BatteryResultProxy.fetchall()\n",
    "\n",
    "# converting data to data frame\n",
    "battery_data = pd.DataFrame(BatteryResultSet)\n",
    "battery_data.columns = BatteryResultSet[0].keys()\n",
    "\n",
    "# removing index column from data - 0 for rows and 1 for column\n",
    "battery_data = battery_data.drop('index', 1)\n",
    "\n",
    "# saving data frame as pickle object for future use\n",
    "battery_data.to_pickle('data/battery.pkl')\n",
    "\n",
    "print('fetching battery data completed')"
   ]
  },
  {
   "cell_type": "markdown",
   "metadata": {},
   "source": [
    "### GPS table"
   ]
  },
  {
   "cell_type": "code",
   "execution_count": null,
   "metadata": {},
   "outputs": [],
   "source": [
    "# Equivalent to 'SELECT * FROM gps\n",
    "gps = db.Table('gps', metadata, autoload=True, autoload_with=engine)\n",
    "query = db.select([gps])\n",
    "\n",
    "# getting data by executing the query above\n",
    "GPSResultProxy = connection.execute(query)\n",
    "GPSResultSet = GPSResultProxy.fetchall()\n",
    "\n",
    "# converting data to data frame\n",
    "gps_data = pd.DataFrame(GPSResultSet)\n",
    "gps_data.columns = GPSResultSet[0].keys()\n",
    "\n",
    "# removing index column from data - 0 for rows and 1 for column\n",
    "gps_data = gps_data.drop('index', 1)\n",
    "\n",
    "# saving data frame as HDF5 object(because of its size) for future use\n",
    "gps_data.to_pickle('data/gps.pkl')\n",
    "\n",
    "print('fetching gps data completed')"
   ]
  }
 ],
 "metadata": {
  "kernelspec": {
   "display_name": "Python 3",
   "language": "python",
   "name": "python3"
  },
  "language_info": {
   "codemirror_mode": {
    "name": "ipython",
    "version": 3
   },
   "file_extension": ".py",
   "mimetype": "text/x-python",
   "name": "python",
   "nbconvert_exporter": "python",
   "pygments_lexer": "ipython3",
   "version": "3.6.6"
  }
 },
 "nbformat": 4,
 "nbformat_minor": 2
}
